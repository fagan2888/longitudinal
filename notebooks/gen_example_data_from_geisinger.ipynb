{
 "cells": [
  {
   "cell_type": "markdown",
   "metadata": {},
   "source": [
    "# longitudinal example data\n",
    "\n",
    "- the idea here is to sample the distributions of real patients and to simulate the outcome as a way of testing whether appropriate features can be discovered. \n",
    "\n",
    "- steps:\n",
    "\n",
    " 1. use promegranate to create variable distributions\n",
    " 2. create 3-4 longitudinal variables for ~ 100 patients\n",
    " 3. create simulated outcomes:\n",
    "     a. outcome = slope(bmi) plus var(glucose) \n",
    "     b. outcome = recent(bmi) plus count(meds?)\n",
    " 4. run FEAT on these\n",
    " 5. run LR on these with median values and compare"
   ]
  },
  {
   "cell_type": "code",
   "execution_count": null,
   "metadata": {},
   "outputs": [],
   "source": [
    "## load geisinger data"
   ]
  },
  {
   "cell_type": "code",
   "execution_count": null,
   "metadata": {},
   "outputs": [],
   "source": [
    "## fit distributions"
   ]
  },
  {
   "cell_type": "code",
   "execution_count": null,
   "metadata": {},
   "outputs": [],
   "source": [
    "## simulate data "
   ]
  }
 ],
 "metadata": {
  "kernelspec": {
   "display_name": "Python 3",
   "language": "python",
   "name": "python3"
  },
  "language_info": {
   "codemirror_mode": {
    "name": "ipython",
    "version": 3
   },
   "file_extension": ".py",
   "mimetype": "text/x-python",
   "name": "python",
   "nbconvert_exporter": "python",
   "pygments_lexer": "ipython3",
   "version": "3.6.5"
  }
 },
 "nbformat": 4,
 "nbformat_minor": 2
}
